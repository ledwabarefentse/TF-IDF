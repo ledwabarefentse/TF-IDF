{
  "nbformat": 4,
  "nbformat_minor": 0,
  "metadata": {
    "colab": {
      "provenance": [],
      "authorship_tag": "ABX9TyNs9q3t0GDkQ9pcC0az5Rhu",
      "include_colab_link": true
    },
    "kernelspec": {
      "name": "python3",
      "display_name": "Python 3"
    },
    "language_info": {
      "name": "python"
    }
  },
  "cells": [
    {
      "cell_type": "markdown",
      "metadata": {
        "id": "view-in-github",
        "colab_type": "text"
      },
      "source": [
        "<a href=\"https://colab.research.google.com/github/ledwabarefentse/TF-IDF/blob/main/TF_IDF.ipynb\" target=\"_parent\"><img src=\"https://colab.research.google.com/assets/colab-badge.svg\" alt=\"Open In Colab\"/></a>"
      ]
    },
    {
      "cell_type": "code",
      "source": [
        "from sklearn.feature_extraction.text import TfidfVectorizer"
      ],
      "metadata": {
        "id": "NzxiyZG47A7w"
      },
      "execution_count": 1,
      "outputs": []
    },
    {
      "cell_type": "code",
      "source": [
        "# assign documents\n",
        "d0 = \"Lesiba\"\n",
        "d1 = \"I once worked with Lesiba and I enjoyed it.\"\n",
        "d2 = \"He knows how to make nlp easy to understand.\"\n",
        "\n",
        "# merge documents into a single corpus\n",
        "string = [d0, d1, d2]"
      ],
      "metadata": {
        "id": "ezpHKx8z4iM0"
      },
      "execution_count": 6,
      "outputs": []
    },
    {
      "cell_type": "code",
      "source": [
        "# create object\n",
        "tfidf = TfidfVectorizer()\n",
        "\n",
        "# get tf-df values\n",
        "result = tfidf.fit_transform(string)"
      ],
      "metadata": {
        "id": "FzOkP63b5GT7"
      },
      "execution_count": 7,
      "outputs": []
    },
    {
      "cell_type": "code",
      "source": [
        "# get idf values\n",
        "print('\\nidf values:')\n",
        "for ele1, ele2 in zip(tfidf.get_feature_names_out(), tfidf.idf_):\n",
        "  print(ele1, ':', ele2)"
      ],
      "metadata": {
        "colab": {
          "base_uri": "https://localhost:8080/"
        },
        "id": "8qTK3Mf95J9n",
        "outputId": "ce979941-47e1-4a2f-943f-64c09e70dda3"
      },
      "execution_count": 8,
      "outputs": [
        {
          "output_type": "stream",
          "name": "stdout",
          "text": [
            "\n",
            "idf values:\n",
            "and : 1.6931471805599454\n",
            "easy : 1.6931471805599454\n",
            "enjoyed : 1.6931471805599454\n",
            "he : 1.6931471805599454\n",
            "how : 1.6931471805599454\n",
            "it : 1.6931471805599454\n",
            "knows : 1.6931471805599454\n",
            "lesiba : 1.2876820724517808\n",
            "make : 1.6931471805599454\n",
            "nlp : 1.6931471805599454\n",
            "once : 1.6931471805599454\n",
            "to : 1.6931471805599454\n",
            "understand : 1.6931471805599454\n",
            "with : 1.6931471805599454\n",
            "worked : 1.6931471805599454\n"
          ]
        }
      ]
    },
    {
      "cell_type": "code",
      "source": [
        "# get indexing\n",
        "print('\\nWord indexes:')\n",
        "print(tfidf.vocabulary_)\n",
        "\n",
        "# display tf-idf values\n",
        "print('\\ntf-idf value:')\n",
        "print(result)\n",
        "\n",
        "# in matrix form\n",
        "print('\\ntf-idf values in matrix form:')\n",
        "print(result.toarray())"
      ],
      "metadata": {
        "colab": {
          "base_uri": "https://localhost:8080/"
        },
        "id": "3TDwjzob7RxK",
        "outputId": "ae9ca4c5-ec99-4ee2-97ca-7c3548d243fd"
      },
      "execution_count": 9,
      "outputs": [
        {
          "output_type": "stream",
          "name": "stdout",
          "text": [
            "\n",
            "Word indexes:\n",
            "{'lesiba': 7, 'once': 10, 'worked': 14, 'with': 13, 'and': 0, 'enjoyed': 2, 'it': 5, 'he': 3, 'knows': 6, 'how': 4, 'to': 11, 'make': 8, 'nlp': 9, 'easy': 1, 'understand': 12}\n",
            "\n",
            "tf-idf value:\n",
            "  (0, 7)\t1.0\n",
            "  (1, 5)\t0.3898880096169543\n",
            "  (1, 2)\t0.3898880096169543\n",
            "  (1, 0)\t0.3898880096169543\n",
            "  (1, 13)\t0.3898880096169543\n",
            "  (1, 14)\t0.3898880096169543\n",
            "  (1, 10)\t0.3898880096169543\n",
            "  (1, 7)\t0.29651988085384556\n",
            "  (2, 12)\t0.30151134457776363\n",
            "  (2, 1)\t0.30151134457776363\n",
            "  (2, 9)\t0.30151134457776363\n",
            "  (2, 8)\t0.30151134457776363\n",
            "  (2, 11)\t0.6030226891555273\n",
            "  (2, 4)\t0.30151134457776363\n",
            "  (2, 6)\t0.30151134457776363\n",
            "  (2, 3)\t0.30151134457776363\n",
            "\n",
            "tf-idf values in matrix form:\n",
            "[[0.         0.         0.         0.         0.         0.\n",
            "  0.         1.         0.         0.         0.         0.\n",
            "  0.         0.         0.        ]\n",
            " [0.38988801 0.         0.38988801 0.         0.         0.38988801\n",
            "  0.         0.29651988 0.         0.         0.38988801 0.\n",
            "  0.         0.38988801 0.38988801]\n",
            " [0.         0.30151134 0.         0.30151134 0.30151134 0.\n",
            "  0.30151134 0.         0.30151134 0.30151134 0.         0.60302269\n",
            "  0.30151134 0.         0.        ]]\n"
          ]
        }
      ]
    }
  ]
}