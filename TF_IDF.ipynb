{
  "nbformat": 4,
  "nbformat_minor": 0,
  "metadata": {
    "colab": {
      "provenance": [],
      "authorship_tag": "ABX9TyNkEzHL7PtrXsJLuo2NUVMR",
      "include_colab_link": true
    },
    "kernelspec": {
      "name": "python3",
      "display_name": "Python 3"
    },
    "language_info": {
      "name": "python"
    }
  },
  "cells": [
    {
      "cell_type": "markdown",
      "metadata": {
        "id": "view-in-github",
        "colab_type": "text"
      },
      "source": [
        "<a href=\"https://colab.research.google.com/github/ledwabarefentse/TF-IDF/blob/main/TF_IDF.ipynb\" target=\"_parent\"><img src=\"https://colab.research.google.com/assets/colab-badge.svg\" alt=\"Open In Colab\"/></a>"
      ]
    },
    {
      "cell_type": "code",
      "source": [
        "from sklearn.feature_extraction.text import TfidfVectorizer"
      ],
      "metadata": {
        "id": "NzxiyZG47A7w"
      },
      "execution_count": null,
      "outputs": []
    },
    {
      "cell_type": "code",
      "source": [
        "# assign documents\n",
        "d0 = 'Geeks for geeks'\n",
        "d1 = 'Geeks'\n",
        "d2 = 'r2j'\n",
        "\n",
        "# merge documents into a single corpus\n",
        "string = [d0, d1, d2]"
      ],
      "metadata": {
        "id": "ezpHKx8z4iM0"
      },
      "execution_count": null,
      "outputs": []
    },
    {
      "cell_type": "code",
      "source": [
        "# create object\n",
        "tfidf = TfidfVectorizer()\n",
        "\n",
        "# get tf-df values\n",
        "result = tfidf.fit_transform(string)"
      ],
      "metadata": {
        "id": "FzOkP63b5GT7"
      },
      "execution_count": null,
      "outputs": []
    },
    {
      "cell_type": "code",
      "source": [
        "# get idf values\n",
        "print('\\nidf values:')\n",
        "for ele1, ele2 in zip(tfidf.get_feature_names_out(), tfidf.idf_):\n",
        "  print(ele1, ':', ele2)"
      ],
      "metadata": {
        "colab": {
          "base_uri": "https://localhost:8080/"
        },
        "id": "8qTK3Mf95J9n",
        "outputId": "284651b3-6360-4380-8784-1f156261a819"
      },
      "execution_count": null,
      "outputs": [
        {
          "output_type": "stream",
          "name": "stdout",
          "text": [
            "\n",
            "idf values:\n",
            "for : 1.6931471805599454\n",
            "geeks : 1.2876820724517808\n",
            "r2j : 1.6931471805599454\n"
          ]
        }
      ]
    },
    {
      "cell_type": "code",
      "source": [
        "# get indexing\n",
        "print('\\nWord indexes:')\n",
        "print(tfidf.vocabulary_)\n",
        "\n",
        "# display tf-idf values\n",
        "print('\\ntf-idf value:')\n",
        "print(result)\n",
        "\n",
        "# in matrix form\n",
        "print('\\ntf-idf values in matrix form:')\n",
        "print(result.toarray())"
      ],
      "metadata": {
        "colab": {
          "base_uri": "https://localhost:8080/"
        },
        "id": "3TDwjzob7RxK",
        "outputId": "0eebfb74-b1c0-44a1-bead-f035359c91b5"
      },
      "execution_count": null,
      "outputs": [
        {
          "output_type": "stream",
          "name": "stdout",
          "text": [
            "\n",
            "Word indexes:\n",
            "{'geeks': 1, 'for': 0, 'r2j': 2}\n",
            "\n",
            "tf-idf value:\n",
            "  (0, 0)\t0.5493512310263033\n",
            "  (0, 1)\t0.8355915419449176\n",
            "  (1, 1)\t1.0\n",
            "  (2, 2)\t1.0\n",
            "\n",
            "tf-idf values in matrix form:\n",
            "[[0.54935123 0.83559154 0.        ]\n",
            " [0.         1.         0.        ]\n",
            " [0.         0.         1.        ]]\n"
          ]
        }
      ]
    }
  ]
}